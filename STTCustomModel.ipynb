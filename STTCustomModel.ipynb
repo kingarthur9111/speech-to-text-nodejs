{
 "cells": [
  {
   "cell_type": "code",
   "execution_count": 1,
   "metadata": {},
   "outputs": [],
   "source": [
    "import requests\n",
    "import json\n",
    "import codecs\n",
    "import sys, time\n",
    "from requests.packages.urllib3.exceptions import InsecureRequestWarning\n",
    "\n",
    "requests.packages.urllib3.disable_warnings(InsecureRequestWarning)"
   ]
  },
  {
   "cell_type": "code",
   "execution_count": 2,
   "metadata": {},
   "outputs": [],
   "source": [
    "username = \"7569524a-048e-456e-aae6-34f035c69503\"\n",
    "password = \"I2xIGAJJ2RjK\"\n",
    "headers = {'Content-Type' : \"application/json\"}"
   ]
  },
  {
   "cell_type": "code",
   "execution_count": 15,
   "metadata": {},
   "outputs": [
    {
     "name": "stdout",
     "output_type": "stream",
     "text": [
      "\n",
      "Creating custom mmodel...\n",
      "Model creation returns:  201\n"
     ]
    }
   ],
   "source": [
    "print \"\\nCreating custom mmodel...\"\n",
    "data = {\"name\" : \"Custom model #2\", \"base_model_name\" : \"ja-JP_BroadbandModel\", \"description\" : \"300312-01 custom model and Add a single user word\"}\n",
    "uri = \"https://stream.watsonplatform.net/speech-to-text/api/v1/customizations\"\n",
    "jsonObject = json.dumps(data).encode('utf-8')\n",
    "resp = requests.post(uri, auth=(username,password), verify=False, headers=headers, data=jsonObject)\n",
    "\n",
    "print \"Model creation returns: \", resp.status_code\n",
    "if resp.status_code != 201:\n",
    "   print \"Failed to create model\"\n",
    "   print resp.text"
   ]
  },
  {
   "cell_type": "code",
   "execution_count": 25,
   "metadata": {},
   "outputs": [
    {
     "name": "stdout",
     "output_type": "stream",
     "text": [
      "Model customization_id:  f7b13892-8070-4af3-89f8-fcddb1c33f3c\n"
     ]
    }
   ],
   "source": [
    "respJson = resp.json()\n",
    "customID = respJson['customization_id']\n",
    "print \"Model customization_id: \", customID"
   ]
  },
  {
   "cell_type": "code",
   "execution_count": 26,
   "metadata": {},
   "outputs": [],
   "source": [
    "corpus_file = \"../corpus_utf8.txt\"\n",
    "corpus_name = \"corpus1\""
   ]
  },
  {
   "cell_type": "code",
   "execution_count": 27,
   "metadata": {},
   "outputs": [
    {
     "name": "stdout",
     "output_type": "stream",
     "text": [
      "\n",
      "Adding corpus file...\n",
      "Adding corpus file returns:  400\n",
      "Failed to add corpus file\n",
      "{\n",
      "   \"code\": 400,\n",
      "   \"code_description\": \"Bad Request\",\n",
      "   \"error\": \"Corpus 'corpus1' already exists - change its name, remove existing corpus before adding new one, or overwrite existing corpus by setting 'allow_overwrite' flag to true\"\n",
      "}\n"
     ]
    }
   ],
   "source": [
    "print \"\\nAdding corpus file...\"\n",
    "uri = \"https://stream.watsonplatform.net/speech-to-text/api/v1/customizations/\"+customID+\"/corpora/\"+corpus_name\n",
    "with open(corpus_file, 'rb') as f:\n",
    "   r = requests.post(uri, auth=(username,password), verify=False, headers=headers, data=f)\n",
    "\n",
    "print \"Adding corpus file returns: \", r.status_code\n",
    "if r.status_code != 201:\n",
    "   print \"Failed to add corpus file\"\n",
    "   print r.text"
   ]
  },
  {
   "cell_type": "code",
   "execution_count": 28,
   "metadata": {},
   "outputs": [
    {
     "name": "stdout",
     "output_type": "stream",
     "text": [
      "Checking status of corpus analysis...\n",
      "Corpus analysis done!\n"
     ]
    }
   ],
   "source": [
    "print \"Checking status of corpus analysis...\"\n",
    "uri = \"https://stream.watsonplatform.net/speech-to-text/api/v1/customizations/\"+customID+\"/corpora/\"+corpus_name\n",
    "r = requests.get(uri, auth=(username,password), verify=False, headers=headers)\n",
    "respJson = r.json()\n",
    "status = respJson['status']\n",
    "time_to_run = 10\n",
    "while (status != 'analyzed'):\n",
    "    time.sleep(10)\n",
    "    r = requests.get(uri, auth=(username,password), verify=False, headers=headers)\n",
    "    respJson = r.json()\n",
    "    status = respJson['status']\n",
    "    print \"status: \", status, \"(\", time_to_run, \")\"\n",
    "    time_to_run += 10\n",
    "\n",
    "print \"Corpus analysis done!\""
   ]
  },
  {
   "cell_type": "code",
   "execution_count": 11,
   "metadata": {},
   "outputs": [
    {
     "name": "stdout",
     "output_type": "stream",
     "text": [
      "\n",
      "Listing words...\n",
      "Listing words returns:  200\n",
      "Words list from added corpus saved in file: 645137fe-e93c-462f-8ea0-699b6a6e6898.OOVs.corpus\n"
     ]
    }
   ],
   "source": [
    "print \"\\nListing words...\"\n",
    "uri = \"https://stream.watsonplatform.net/speech-to-text/api/v1/customizations/\"+customID+\"/words?sort=count\"\n",
    "r = requests.get(uri, auth=(username,password), verify=False, headers=headers)\n",
    "print \"Listing words returns: \", r.status_code\n",
    "file=codecs.open(customID+\".OOVs.corpus\", 'wb', 'utf-8')\n",
    "file.write(r.text)\n",
    "print \"Words list from added corpus saved in file: \"+customID+\".OOVs.corpus\""
   ]
  },
  {
   "cell_type": "code",
   "execution_count": 43,
   "metadata": {},
   "outputs": [
    {
     "name": "stdout",
     "output_type": "stream",
     "text": [
      "\n",
      "Adding multiple words...\n",
      "Adding multiple words returns:  201\n"
     ]
    }
   ],
   "source": [
    "print \"\\nAdding multiple words...\"\n",
    "data = {\"words\" : [{\"word\" : \"ごばん\", \"sounds_like\" : [\"ゴバン\"], \"display_as\" : \"5番\"},{\"word\" : \"にじゅよんごう\", \"sounds_like\" : [\"ニジュヨンゴウ\"], \"display_as\" : \"二十四号\"}, {\"word\" : \"ふくむらのりちか\", \"sounds_like\" : [\"フクムラノリチカ\"], \"display_as\" : \"福村教親\"}]}\n",
    "uri = \"https://stream.watsonplatform.net/speech-to-text/api/v1/customizations/\"+customID+\"/words\"\n",
    "jsonObject = json.dumps(data).encode('utf-8')\n",
    "r = requests.post(uri, auth=(username,password), verify=False, headers=headers, data=jsonObject)\n",
    "\n",
    "print \"Adding multiple words returns: \", r.status_code"
   ]
  },
  {
   "cell_type": "code",
   "execution_count": 44,
   "metadata": {},
   "outputs": [
    {
     "name": "stdout",
     "output_type": "stream",
     "text": [
      "Checking status of model for multiple words...\n",
      "status:  ready ( 10 )\n",
      "Multiple words added!\n"
     ]
    }
   ],
   "source": [
    "uri = \"https://stream.watsonplatform.net/speech-to-text/api/v1/customizations/\"+customID\n",
    "r = requests.get(uri, auth=(username,password), verify=False, headers=headers)\n",
    "respJson = r.json()\n",
    "status = respJson['status']\n",
    "print \"Checking status of model for multiple words...\"\n",
    "time_to_run = 10\n",
    "while (status != 'ready'):\n",
    "    time.sleep(10)\n",
    "    r = requests.get(uri, auth=(username,password), verify=False, headers=headers)\n",
    "    respJson = r.json()\n",
    "    status = respJson['status']\n",
    "    print \"status: \", status, \"(\", time_to_run, \")\"\n",
    "    time_to_run += 10\n",
    "\n",
    "print \"Multiple words added!\""
   ]
  },
  {
   "cell_type": "code",
   "execution_count": 46,
   "metadata": {},
   "outputs": [
    {
     "name": "stdout",
     "output_type": "stream",
     "text": [
      "\n",
      "Listing words...\n",
      "Listing user-added words returns:  200\n",
      "Words list from user-added words saved in file: f7b13892-8070-4af3-89f8-fcddb1c33f3c.OOVs.user\n"
     ]
    }
   ],
   "source": [
    "print \"\\nListing words...\"\n",
    "uri = \"https://stream.watsonplatform.net/speech-to-text/api/v1/customizations/\"+customID+\"/words?word_type=user&sort=alphabetical\"\n",
    "r = requests.get(uri, auth=(username,password), verify=False, headers=headers)\n",
    "\n",
    "print \"Listing user-added words returns: \", r.status_code\n",
    "file=codecs.open(customID+\".OOVs.user\", 'wb', 'utf-8')\n",
    "file.write(r.text)\n",
    "print \"Words list from user-added words saved in file: \"+customID+\".OOVs.user\""
   ]
  },
  {
   "cell_type": "code",
   "execution_count": 47,
   "metadata": {},
   "outputs": [
    {
     "name": "stdout",
     "output_type": "stream",
     "text": [
      "\n",
      "Training custom model...\n",
      "Training request returns:  200\n"
     ]
    }
   ],
   "source": [
    "print \"\\nTraining custom model...\"\n",
    "uri = \"https://stream.watsonplatform.net/speech-to-text/api/v1/customizations/\"+customID+\"/train\"\n",
    "data = {}\n",
    "jsonObject = json.dumps(data).encode('utf-8')\n",
    "r = requests.post(uri, auth=(username,password), verify=False, data=jsonObject)\n",
    "\n",
    "print \"Training request returns: \", r.status_code\n",
    "if r.status_code != 200:\n",
    "   print \"Training failed to start - exiting!\""
   ]
  },
  {
   "cell_type": "code",
   "execution_count": 48,
   "metadata": {},
   "outputs": [
    {
     "name": "stdout",
     "output_type": "stream",
     "text": [
      "status:  training ( 10 )\n",
      "status:  available ( 20 )\n",
      "Training complete!\n",
      "\n",
      "Getting custom models...\n",
      "Get models returns:  200\n",
      "{\"customizations\": [\n",
      "   {\n",
      "      \"owner\": \"1f3ca766-8b0f-4a3c-a024-6f2c2e20e18e\",\n",
      "      \"base_model_name\": \"ja-JP_BroadbandModel\",\n",
      "      \"customization_id\": \"645137fe-e93c-462f-8ea0-699b6a6e6898\",\n",
      "      \"dialect\": \"ja-JP\",\n",
      "      \"versions\": [\"ja-JP_BroadbandModel.v09-05202016.06202016\"],\n",
      "      \"created\": \"2018-04-10T05:40:09.422Z\",\n",
      "      \"name\": \"Custom model #1\",\n",
      "      \"description\": \"300312-01 custom model\",\n",
      "      \"progress\": 100,\n",
      "      \"language\": \"ja-JP\",\n",
      "      \"status\": \"available\"\n",
      "   },\n",
      "   {\n",
      "      \"owner\": \"1f3ca766-8b0f-4a3c-a024-6f2c2e20e18e\",\n",
      "      \"base_model_name\": \"ja-JP_BroadbandModel\",\n",
      "      \"customization_id\": \"f7b13892-8070-4af3-89f8-fcddb1c33f3c\",\n",
      "      \"dialect\": \"ja-JP\",\n",
      "      \"versions\": [\"ja-JP_BroadbandModel.v09-05202016.06202016\"],\n",
      "      \"created\": \"2018-04-10T06:59:08.784Z\",\n",
      "      \"name\": \"Custom model #2\",\n",
      "      \"description\": \"300312-01 custom model and Add a single user word\",\n",
      "      \"progress\": 100,\n",
      "      \"language\": \"ja-JP\",\n",
      "      \"status\": \"available\"\n",
      "   }\n",
      "]}\n",
      "\n"
     ]
    }
   ],
   "source": [
    "uri = \"https://stream.watsonplatform.net/speech-to-text/api/v1/customizations/\"+customID\n",
    "r = requests.get(uri, auth=(username,password), verify=False, headers=headers)\n",
    "respJson = r.json()\n",
    "status = respJson['status']\n",
    "time_to_run = 10\n",
    "while (status != 'available'):\n",
    "    time.sleep(10)\n",
    "    r = requests.get(uri, auth=(username,password), verify=False, headers=headers)\n",
    "    respJson = r.json()\n",
    "    status = respJson['status']\n",
    "    print \"status: \", status, \"(\", time_to_run, \")\"\n",
    "    time_to_run += 10\n",
    "\n",
    "print \"Training complete!\"\n",
    "\n",
    "print \"\\nGetting custom models...\"\n",
    "uri = \"https://stream.watsonplatform.net/speech-to-text/api/v1/customizations\"\n",
    "r = requests.get(uri, auth=(username,password), verify=False, headers=headers)\n",
    "\n",
    "print \"Get models returns: \", r.status_code\n",
    "print r.text"
   ]
  },
  {
   "cell_type": "code",
   "execution_count": 49,
   "metadata": {},
   "outputs": [
    {
     "name": "stdout",
     "output_type": "stream",
     "text": [
      "\n",
      "Getting custom models...\n",
      "Get models returns:  200\n",
      "{\"customizations\": [\n",
      "   {\n",
      "      \"owner\": \"1f3ca766-8b0f-4a3c-a024-6f2c2e20e18e\",\n",
      "      \"base_model_name\": \"ja-JP_BroadbandModel\",\n",
      "      \"customization_id\": \"645137fe-e93c-462f-8ea0-699b6a6e6898\",\n",
      "      \"dialect\": \"ja-JP\",\n",
      "      \"versions\": [\"ja-JP_BroadbandModel.v09-05202016.06202016\"],\n",
      "      \"created\": \"2018-04-10T05:40:09.422Z\",\n",
      "      \"name\": \"Custom model #1\",\n",
      "      \"description\": \"300312-01 custom model\",\n",
      "      \"progress\": 100,\n",
      "      \"language\": \"ja-JP\",\n",
      "      \"status\": \"available\"\n",
      "   },\n",
      "   {\n",
      "      \"owner\": \"1f3ca766-8b0f-4a3c-a024-6f2c2e20e18e\",\n",
      "      \"base_model_name\": \"ja-JP_BroadbandModel\",\n",
      "      \"customization_id\": \"f7b13892-8070-4af3-89f8-fcddb1c33f3c\",\n",
      "      \"dialect\": \"ja-JP\",\n",
      "      \"versions\": [\"ja-JP_BroadbandModel.v09-05202016.06202016\"],\n",
      "      \"created\": \"2018-04-10T06:59:08.784Z\",\n",
      "      \"name\": \"Custom model #2\",\n",
      "      \"description\": \"300312-01 custom model and Add a single user word\",\n",
      "      \"progress\": 100,\n",
      "      \"language\": \"ja-JP\",\n",
      "      \"status\": \"available\"\n",
      "   }\n",
      "]}\n",
      "\n"
     ]
    }
   ],
   "source": [
    "print \"\\nGetting custom models...\"\n",
    "uri = \"https://stream.watsonplatform.net/speech-to-text/api/v1/customizations\"\n",
    "r = requests.get(uri, auth=(username,password), verify=False, headers=headers)\n",
    "print \"Get models returns: \", r.status_code\n",
    "print r.text"
   ]
  },
  {
   "cell_type": "code",
   "execution_count": null,
   "metadata": {},
   "outputs": [],
   "source": []
  }
 ],
 "metadata": {
  "kernelspec": {
   "display_name": "Python 2",
   "language": "python",
   "name": "python2"
  },
  "language_info": {
   "codemirror_mode": {
    "name": "ipython",
    "version": 2
   },
   "file_extension": ".py",
   "mimetype": "text/x-python",
   "name": "python",
   "nbconvert_exporter": "python",
   "pygments_lexer": "ipython2",
   "version": "2.7.14"
  }
 },
 "nbformat": 4,
 "nbformat_minor": 2
}
